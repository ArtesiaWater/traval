{
 "cells": [
  {
   "cell_type": "markdown",
   "metadata": {},
   "source": [
    "# Example 2: Applying an error detection algorithm to a full dataset\n",
    "_Created by Davíd Brakenhoff, Artesia, May 2020_\n",
    "\n",
    "<hr>\n",
    "\n",
    "Use Aa en Maas divers dataset consisting of 484 piezometers to test new traval module.\n",
    "- Requires pystore\n",
    "- Requires hydropandas\n",
    "- Requires data in pystore format as prepared by scripts in the `traval_data` module"
   ]
  },
  {
   "cell_type": "code",
   "execution_count": 1,
   "metadata": {},
   "outputs": [],
   "source": [
    "import numpy as np\n",
    "import pandas as pd\n",
    "import matplotlib.pyplot as plt\n",
    "import pystore\n",
    "from tqdm.notebook import tqdm\n",
    "import hydropandas as hpd\n",
    "import traval\n",
    "from traval import rulelib as rlib"
   ]
  },
  {
   "cell_type": "markdown",
   "metadata": {},
   "source": [
    "## Load data"
   ]
  },
  {
   "cell_type": "code",
   "execution_count": 2,
   "metadata": {},
   "outputs": [],
   "source": [
    "pystore_path = \"/home/david/Github/traval-data/extracted_data/pystore\"\n",
    "pystore_name = \"aaenmaas\""
   ]
  },
  {
   "cell_type": "code",
   "execution_count": 3,
   "metadata": {},
   "outputs": [
    {
     "name": "stderr",
     "output_type": "stream",
     "text": [
      "100%|██████████| 484/484 [00:11<00:00, 42.06it/s]\n",
      "100%|██████████| 484/484 [00:17<00:00, 27.88it/s]\n"
     ]
    }
   ],
   "source": [
    "items = [\"GW.meting.ruw\"]\n",
    "raw_obs = hpd.ObsCollection.from_pystore(\n",
    "    pystore_name,\n",
    "    pystore_path,\n",
    "    collection_names=None,\n",
    "    item_names=items,\n",
    "    nameby=\"collection\",\n",
    "    read_series=True,\n",
    "    verbose=False,\n",
    "    progressbar=True,\n",
    ")\n",
    "\n",
    "items = [\"GW.meting.totaalcorrectie\"]\n",
    "val_obs = hpd.ObsCollection.from_pystore(\n",
    "    pystore_name,\n",
    "    pystore_path,\n",
    "    collection_names=None,\n",
    "    item_names=items,\n",
    "    nameby=\"collection\",\n",
    "    read_series=True,\n",
    "    verbose=False,\n",
    "    progressbar=True,\n",
    ")"
   ]
  },
  {
   "cell_type": "markdown",
   "metadata": {},
   "source": [
    "## Helper functions for obtaining additional timeseries"
   ]
  },
  {
   "cell_type": "code",
   "execution_count": 4,
   "metadata": {},
   "outputs": [],
   "source": [
    "pystore.set_path(pystore_path)\n",
    "store = pystore.store(pystore_name)\n",
    "\n",
    "\n",
    "def get_mph_series(name):\n",
    "    \"\"\"Get piezometer height from pystore.\"\"\"\n",
    "    coll = store.collection(name)\n",
    "    meetpuntNAP_df = coll.item(\"Meetpunt.hoogte\").to_pandas()\n",
    "    return meetpuntNAP_df.value\n",
    "\n",
    "\n",
    "def get_threshold_series(name):\n",
    "    \"\"\"Get level below which sensor is dry from pystore.\"\"\"\n",
    "    coll = store.collection(name)\n",
    "    inhangdiepte_df = coll.item(\"Inhang.diepte\").to_pandas()\n",
    "    inhangdiepte = inhangdiepte_df.value.iloc[0]\n",
    "    meetpuntNAP_df = coll.item(\"Meetpunt.hoogte\").to_pandas()\n",
    "    meetpuntNAP = meetpuntNAP_df.value.iloc[0]\n",
    "    threshold_series = meetpuntNAP_df.value - inhangdiepte_df.value\n",
    "    return threshold_series"
   ]
  },
  {
   "cell_type": "markdown",
   "metadata": {},
   "source": [
    "## Define error detection algorithm\n",
    "BASIC method from TRAVAL study."
   ]
  },
  {
   "cell_type": "code",
   "execution_count": 6,
   "metadata": {},
   "outputs": [
    {
     "data": {
      "text/plain": [
       "RuleSet: 'basic'\n",
       "  step: name            apply_to\n",
       "     1: spikes                 0\n",
       "     2: dry                    0\n",
       "     3: hardmax                0\n",
       "     4: combine         (1, 2, 3)"
      ]
     },
     "execution_count": 6,
     "metadata": {},
     "output_type": "execute_result"
    }
   ],
   "source": [
    "# initialize RuleSet object\n",
    "rset = traval.RuleSet(name=\"basic\")\n",
    "\n",
    "# add rules\n",
    "rset.add_rule(\n",
    "    \"spikes\",\n",
    "    rlib.rule_spike_detection,\n",
    "    apply_to=0,\n",
    "    kwargs={\"threshold\": 0.15, \"spike_tol\": 0.15, \"max_gap\": \"7D\"},\n",
    ")\n",
    "rset.add_rule(\n",
    "    \"dry\",\n",
    "    rlib.rule_ufunc_threshold,\n",
    "    apply_to=0,\n",
    "    kwargs={\"ufunc\": (np.less,), \"threshold\": get_threshold_series, \"offset\": 0.05},\n",
    ")\n",
    "rset.add_rule(\n",
    "    \"hardmax\",\n",
    "    rlib.rule_ufunc_threshold,\n",
    "    apply_to=0,\n",
    "    kwargs={\"ufunc\": (np.greater,), \"threshold\": get_mph_series},\n",
    ")\n",
    "rset.add_rule(\"combine\", rlib.rule_combine_nan_or, apply_to=(1, 2, 3))\n",
    "\n",
    "# view object\n",
    "rset"
   ]
  },
  {
   "cell_type": "markdown",
   "metadata": {},
   "source": [
    "## Error detection\n",
    "\n",
    "Do some pre-processing on timeseries prior to running error detection:\n",
    "- Create synthetic raw timeseries (remove unlabeled adjustments to timeseries)\n",
    "- Ensure all labeled errors are set to np.nan in truth series (this means they are counted as erroneous observations).\n",
    "- Recategorize some comments.\n"
   ]
  },
  {
   "cell_type": "code",
   "execution_count": 7,
   "metadata": {},
   "outputs": [
    {
     "data": {
      "application/vnd.jupyter.widget-view+json": {
       "model_id": "b304c5dd73704461955e5e05974ce376",
       "version_major": 2,
       "version_minor": 0
      },
      "text/plain": [
       "  0%|          | 0/481 [00:00<?, ?it/s]"
      ]
     },
     "metadata": {},
     "output_type": "display_data"
    }
   ],
   "source": [
    "dlist = {}\n",
    "\n",
    "for name in tqdm(raw_obs.index.intersection(val_obs.index)):\n",
    "    # get raw data\n",
    "    raw = raw_obs.loc[name, \"obs\"][\"value\"]\n",
    "    raw.name = name\n",
    "\n",
    "    # get truth\n",
    "    truth = val_obs.loc[name, \"obs\"].loc[:, [\"value\", \"comment\"]]\n",
    "\n",
    "    # set all commented data to np.NaN\n",
    "    truth.loc[truth.comment != \"\", \"value\"] = np.nan\n",
    "    truth.loc[truth.comment == \"vorst\", \"comment\"] = \"onbetrouwbare meting\"\n",
    "\n",
    "    # rename columns\n",
    "    truth.columns = [\"manual validation\", \"comment\"]\n",
    "\n",
    "    # create synthetic raw (only keeps values for labeled changes)\n",
    "    synth_raw = traval.ts_utils.create_synthetic_raw_timeseries(\n",
    "        raw, truth[\"manual validation\"], truth[\"comment\"]\n",
    "    )\n",
    "    synth_raw.name = name\n",
    "\n",
    "    # create detector object and apply algorithm\n",
    "    detector = traval.Detector(synth_raw, truth=truth)\n",
    "    detector.apply_ruleset(rset, compare=[-1])\n",
    "\n",
    "    # store object\n",
    "    dlist[name] = detector"
   ]
  },
  {
   "cell_type": "markdown",
   "metadata": {},
   "source": [
    "## Calculate statistics\n",
    "For full dataset and for individual timeseries"
   ]
  },
  {
   "cell_type": "code",
   "execution_count": 8,
   "metadata": {},
   "outputs": [],
   "source": [
    "fpr = []\n",
    "tpr = []\n",
    "\n",
    "# initialize empty BinaryClassifier\n",
    "bc_sum = traval.BinaryClassifier(0, 0, 0, 0)\n",
    "\n",
    "for k, dct in dlist.items():\n",
    "    # get TPR and FPR\n",
    "    itpr = dct.comparisons[4].bc.true_positive_rate\n",
    "    ifpr = dct.comparisons[4].bc.false_positive_rate\n",
    "    tpr.append(itpr)\n",
    "    fpr.append(ifpr)\n",
    "\n",
    "    # add binary classification result,\n",
    "    # the '+' is overloaded to allow adding of the two\n",
    "    bc_sum = bc_sum + dct.comparisons[4].bc"
   ]
  },
  {
   "cell_type": "markdown",
   "metadata": {},
   "source": [
    "Calculate confusion matrix for full dataset."
   ]
  },
  {
   "cell_type": "code",
   "execution_count": 9,
   "metadata": {},
   "outputs": [
    {
     "data": {
      "text/plain": [
       "\u001b[0;31mSignature:\u001b[0m \u001b[0mbc_sum\u001b[0m\u001b[0;34m.\u001b[0m\u001b[0mconfusion_matrix\u001b[0m\u001b[0;34m(\u001b[0m\u001b[0mas_array\u001b[0m\u001b[0;34m=\u001b[0m\u001b[0;32mFalse\u001b[0m\u001b[0;34m)\u001b[0m\u001b[0;34m\u001b[0m\u001b[0;34m\u001b[0m\u001b[0m\n",
       "\u001b[0;31mDocstring:\u001b[0m\n",
       "Calculate confusion matrix.\n",
       "\n",
       "Confusion matrix shows the performance of the algorithm given a\n",
       "certain truth. An abstract example of the confusion matrix:\n",
       "\n",
       "                |     Algorithm     |\n",
       "                |-------------------|\n",
       "                |  error  | correct |\n",
       "------|---------|---------|---------|\n",
       "      |  error  |   TP    |   FN    |\n",
       "Truth |---------|---------|---------|\n",
       "      | correct |   FP    |   TN    |\n",
       "------|---------|---------|---------|\n",
       "\n",
       "where:\n",
       "- TP: True Positives  = errors correctly detected by algorithm\n",
       "- TN: True Negatives  = correct values correctly not flagged by algorithm\n",
       "- FP: False Positives = correct values marked as errors by algorithm\n",
       "- FN: False Negatives = errors not detected by algorithm\n",
       "\n",
       "Parameters\n",
       "----------\n",
       "as_array : bool, optional\n",
       "    return data as array instead of DataFrame, by default False\n",
       "\n",
       "Returns\n",
       "-------\n",
       "data : pd.DataFrame or np.array\n",
       "    confusion matrix\n",
       "\u001b[0;31mFile:\u001b[0m      ~/Github/traval/traval/binary_classifier.py\n",
       "\u001b[0;31mType:\u001b[0m      method\n"
      ]
     },
     "metadata": {},
     "output_type": "display_data"
    }
   ],
   "source": [
    "bc_sum.confusion_matrix?"
   ]
  },
  {
   "cell_type": "markdown",
   "metadata": {},
   "source": [
    "The confusion matrix summarizes the performance of the algorithm. The diagonal entries show in how many cases the algorithm was correct in identifying errors or correct measurements, as compared to the \"truth\": the manually validated timeseries. The off-diagonal entries show the cases where the algorithm was incorrect, either by erroneously classifying a good measurement as an error, or not identifying an erroneous measurement."
   ]
  },
  {
   "cell_type": "code",
   "execution_count": 10,
   "metadata": {},
   "outputs": [
    {
     "data": {
      "text/html": [
       "<div>\n",
       "<style scoped>\n",
       "    .dataframe tbody tr th:only-of-type {\n",
       "        vertical-align: middle;\n",
       "    }\n",
       "\n",
       "    .dataframe tbody tr th {\n",
       "        vertical-align: top;\n",
       "    }\n",
       "\n",
       "    .dataframe thead tr th {\n",
       "        text-align: left;\n",
       "    }\n",
       "</style>\n",
       "<table border=\"1\" class=\"dataframe\">\n",
       "  <thead>\n",
       "    <tr>\n",
       "      <th></th>\n",
       "      <th></th>\n",
       "      <th colspan=\"2\" halign=\"left\">Algorithm</th>\n",
       "    </tr>\n",
       "    <tr>\n",
       "      <th></th>\n",
       "      <th></th>\n",
       "      <th>error</th>\n",
       "      <th>correct</th>\n",
       "    </tr>\n",
       "  </thead>\n",
       "  <tbody>\n",
       "    <tr>\n",
       "      <th rowspan=\"2\" valign=\"top\">\"Truth\"</th>\n",
       "      <th>error</th>\n",
       "      <td>442444</td>\n",
       "      <td>411828</td>\n",
       "    </tr>\n",
       "    <tr>\n",
       "      <th>correct</th>\n",
       "      <td>319029</td>\n",
       "      <td>24651161</td>\n",
       "    </tr>\n",
       "  </tbody>\n",
       "</table>\n",
       "</div>"
      ],
      "text/plain": [
       "                Algorithm          \n",
       "                    error   correct\n",
       "\"Truth\" error      442444    411828\n",
       "        correct    319029  24651161"
      ]
     },
     "execution_count": 10,
     "metadata": {},
     "output_type": "execute_result"
    }
   ],
   "source": [
    "bc_sum.confusion_matrix()"
   ]
  },
  {
   "cell_type": "markdown",
   "metadata": {},
   "source": [
    "### ROC-plot\n",
    "\n",
    "The receiver-operator characteristic plot shows the performance of the algorithm relative to the line representing a random guess. \n",
    "- The x-axis shows the False Positive Rate (FPR), which says something about how many false positives occur on a scale from 0.0 to 1.0. E.g. at an FPR of 25% it means that 75% of true negatives are correctly not flagged as suspect, which in turn, means that 25% are marked as suspect and represent False Positives. \n",
    "- The y-axis shows the True Positive Rate or Sensitivity which says something about how many erroroneous observations are correctly identified on a scale from 0.0 to 1.0.\n",
    "\n",
    "The perfect score is the top-left corner, which indicates that 100% of values are correctly classified, and there are 0% False Positives. Values on the black diagonal dotted line are no better than a random guess. Values below the black dotted line indicate that the inverse of classification of the algorithm is better at classifying measurements than its current implementation.\n",
    "\n",
    "Each blue dot represents the algorithm score for a single timeseries. The orange dot is the performance of the algorithm for the whole dataset. The plot shows that the False Positive rate is generally quite low, but that there is a significant spread in the Sensitivity. On average, about 50% of erroneous measurements are correctly identified."
   ]
  },
  {
   "cell_type": "code",
   "execution_count": 12,
   "metadata": {},
   "outputs": [
    {
     "data": {
      "text/plain": [
       "<AxesSubplot:title={'center':'receiver operator characteristic plot'}, xlabel='False Positive Rate (1-specificity)', ylabel='True Positive Rate (sensitivity)'>"
      ]
     },
     "execution_count": 12,
     "metadata": {},
     "output_type": "execute_result"
    },
    {
     "data": {
      "image/png": "[encoded data removed]",
      "text/plain": [
       "<Figure size 720x576 with 1 Axes>"
      ]
     },
     "metadata": {
      "needs_background": "light"
     },
     "output_type": "display_data"
    }
   ],
   "source": [
    "ax = traval.plots.roc_plot(\n",
    "    [np.array(tpr)], [np.array(fpr)], labels=[\"BASIC: individual\"]\n",
    ")\n",
    "traval.plots.roc_plot(\n",
    "    bc_sum.true_positive_rate,\n",
    "    bc_sum.false_positive_rate,\n",
    "    labels=\"BASIC: full dataset\",\n",
    "    ax=ax,\n",
    "    plot_diagonal=False,\n",
    ")"
   ]
  },
  {
   "cell_type": "markdown",
   "metadata": {},
   "source": [
    "If we check the True Positive Rate we see that it is indeed about 50%:"
   ]
  },
  {
   "cell_type": "code",
   "execution_count": 13,
   "metadata": {},
   "outputs": [
    {
     "data": {
      "text/plain": [
       "0.517919351213665"
      ]
     },
     "execution_count": 13,
     "metadata": {},
     "output_type": "execute_result"
    }
   ],
   "source": [
    "bc_sum.true_positive_rate"
   ]
  },
  {
   "cell_type": "markdown",
   "metadata": {},
   "source": [
    "Matthews Correlation Coefficient (MCC) for the full dataset. \n",
    "\n",
    "The MCC is seen as a balanced measure for classification that also works when classes have very different sizes. It is essentially a measure between -1 and 1 that attempts to summarize the confusion matrix in one value. A coefficient of +1 represents a perfect prediction, 0 no better than random prediction and −1 indicates total disagreement between prediction and observation. Though there is no perfect way of summarizing the confusion matrix in one measure, the MCC is seen as one of the best of such measures (Source: [Wikipedia](https://en.wikipedia.org/wiki/Matthews_correlation_coefficient))."
   ]
  },
  {
   "cell_type": "code",
   "execution_count": 14,
   "metadata": {},
   "outputs": [
    {
     "data": {
      "text/plain": [
       "0.5340471787404938"
      ]
     },
     "execution_count": 14,
     "metadata": {},
     "output_type": "execute_result"
    }
   ],
   "source": [
    "bc_sum.mcc"
   ]
  },
  {
   "cell_type": "markdown",
   "metadata": {},
   "source": [
    "Get statistics per comment"
   ]
  },
  {
   "cell_type": "code",
   "execution_count": 15,
   "metadata": {},
   "outputs": [
    {
     "data": {
      "application/vnd.jupyter.widget-view+json": {
       "model_id": "b751f010f574470aa8864e640166bfa5",
       "version_major": 2,
       "version_minor": 0
      },
      "text/plain": [
       "  0%|          | 0/481 [00:00<?, ?it/s]"
      ]
     },
     "metadata": {},
     "output_type": "display_data"
    }
   ],
   "source": [
    "summ = None\n",
    "for d in tqdm(dlist.values()):\n",
    "    if summ is None:\n",
    "        summ = d.comparisons[4].compare_to_base_by_comment()\n",
    "    else:\n",
    "        summ = summ.add(d.comparisons[4].compare_to_base_by_comment(), fill_value=0.0)"
   ]
  },
  {
   "cell_type": "code",
   "execution_count": 16,
   "metadata": {},
   "outputs": [
    {
     "data": {
      "text/html": [
       "<div>\n",
       "<style scoped>\n",
       "    .dataframe tbody tr th:only-of-type {\n",
       "        vertical-align: middle;\n",
       "    }\n",
       "\n",
       "    .dataframe tbody tr th {\n",
       "        vertical-align: top;\n",
       "    }\n",
       "\n",
       "    .dataframe thead th {\n",
       "        text-align: right;\n",
       "    }\n",
       "</style>\n",
       "<table border=\"1\" class=\"dataframe\">\n",
       "  <thead>\n",
       "    <tr style=\"text-align: right;\">\n",
       "      <th></th>\n",
       "      <th></th>\n",
       "      <th>drift logger</th>\n",
       "      <th>droog</th>\n",
       "      <th>foute meting</th>\n",
       "      <th>inhang</th>\n",
       "      <th>lucht</th>\n",
       "      <th>onbetrouwbare meting</th>\n",
       "      <th>piek</th>\n",
       "    </tr>\n",
       "  </thead>\n",
       "  <tbody>\n",
       "    <tr>\n",
       "      <th>kept_in_both</th>\n",
       "      <td>24651161.0</td>\n",
       "      <td>NaN</td>\n",
       "      <td>NaN</td>\n",
       "      <td>NaN</td>\n",
       "      <td>NaN</td>\n",
       "      <td>NaN</td>\n",
       "      <td>NaN</td>\n",
       "      <td>NaN</td>\n",
       "    </tr>\n",
       "    <tr>\n",
       "      <th>flagged_in_s1</th>\n",
       "      <td>319029.0</td>\n",
       "      <td>NaN</td>\n",
       "      <td>NaN</td>\n",
       "      <td>NaN</td>\n",
       "      <td>NaN</td>\n",
       "      <td>NaN</td>\n",
       "      <td>NaN</td>\n",
       "      <td>NaN</td>\n",
       "    </tr>\n",
       "    <tr>\n",
       "      <th>flagged_in_s2</th>\n",
       "      <td>NaN</td>\n",
       "      <td>299331.0</td>\n",
       "      <td>24234.0</td>\n",
       "      <td>21559.0</td>\n",
       "      <td>9111.0</td>\n",
       "      <td>3361.0</td>\n",
       "      <td>48017.0</td>\n",
       "      <td>6215.0</td>\n",
       "    </tr>\n",
       "    <tr>\n",
       "      <th>flagged_in_both</th>\n",
       "      <td>NaN</td>\n",
       "      <td>31367.0</td>\n",
       "      <td>303194.0</td>\n",
       "      <td>23006.0</td>\n",
       "      <td>34652.0</td>\n",
       "      <td>15343.0</td>\n",
       "      <td>24959.0</td>\n",
       "      <td>9923.0</td>\n",
       "    </tr>\n",
       "  </tbody>\n",
       "</table>\n",
       "</div>"
      ],
      "text/plain": [
       "                             drift logger     droog  foute meting   inhang  \\\n",
       "kept_in_both     24651161.0           NaN       NaN           NaN      NaN   \n",
       "flagged_in_s1      319029.0           NaN       NaN           NaN      NaN   \n",
       "flagged_in_s2           NaN      299331.0   24234.0       21559.0   9111.0   \n",
       "flagged_in_both         NaN       31367.0  303194.0       23006.0  34652.0   \n",
       "\n",
       "                   lucht  onbetrouwbare meting    piek  \n",
       "kept_in_both         NaN                   NaN     NaN  \n",
       "flagged_in_s1        NaN                   NaN     NaN  \n",
       "flagged_in_s2     3361.0               48017.0  6215.0  \n",
       "flagged_in_both  15343.0               24959.0  9923.0  "
      ]
     },
     "execution_count": 16,
     "metadata": {},
     "output_type": "execute_result"
    }
   ],
   "source": [
    "summ = summ.dropna(how=\"all\", axis=0)\n",
    "summ"
   ]
  },
  {
   "cell_type": "code",
   "execution_count": 17,
   "metadata": {},
   "outputs": [
    {
     "data": {
      "text/html": [
       "<div>\n",
       "<style scoped>\n",
       "    .dataframe tbody tr th:only-of-type {\n",
       "        vertical-align: middle;\n",
       "    }\n",
       "\n",
       "    .dataframe tbody tr th {\n",
       "        vertical-align: top;\n",
       "    }\n",
       "\n",
       "    .dataframe thead th {\n",
       "        text-align: right;\n",
       "    }\n",
       "</style>\n",
       "<table border=\"1\" class=\"dataframe\">\n",
       "  <thead>\n",
       "    <tr style=\"text-align: right;\">\n",
       "      <th></th>\n",
       "      <th></th>\n",
       "      <th>drift logger</th>\n",
       "      <th>droog</th>\n",
       "      <th>foute meting</th>\n",
       "      <th>inhang</th>\n",
       "      <th>lucht</th>\n",
       "      <th>onbetrouwbare meting</th>\n",
       "      <th>piek</th>\n",
       "    </tr>\n",
       "  </thead>\n",
       "  <tbody>\n",
       "    <tr>\n",
       "      <th>kept_in_both</th>\n",
       "      <td>0.987224</td>\n",
       "      <td>NaN</td>\n",
       "      <td>NaN</td>\n",
       "      <td>NaN</td>\n",
       "      <td>NaN</td>\n",
       "      <td>NaN</td>\n",
       "      <td>NaN</td>\n",
       "      <td>NaN</td>\n",
       "    </tr>\n",
       "    <tr>\n",
       "      <th>flagged_in_s1</th>\n",
       "      <td>0.012776</td>\n",
       "      <td>NaN</td>\n",
       "      <td>NaN</td>\n",
       "      <td>NaN</td>\n",
       "      <td>NaN</td>\n",
       "      <td>NaN</td>\n",
       "      <td>NaN</td>\n",
       "      <td>NaN</td>\n",
       "    </tr>\n",
       "    <tr>\n",
       "      <th>flagged_in_s2</th>\n",
       "      <td>NaN</td>\n",
       "      <td>0.905149</td>\n",
       "      <td>0.074013</td>\n",
       "      <td>0.483765</td>\n",
       "      <td>0.20819</td>\n",
       "      <td>0.179694</td>\n",
       "      <td>0.657983</td>\n",
       "      <td>0.385116</td>\n",
       "    </tr>\n",
       "    <tr>\n",
       "      <th>flagged_in_both</th>\n",
       "      <td>NaN</td>\n",
       "      <td>0.094851</td>\n",
       "      <td>0.925987</td>\n",
       "      <td>0.516235</td>\n",
       "      <td>0.79181</td>\n",
       "      <td>0.820306</td>\n",
       "      <td>0.342017</td>\n",
       "      <td>0.614884</td>\n",
       "    </tr>\n",
       "  </tbody>\n",
       "</table>\n",
       "</div>"
      ],
      "text/plain": [
       "                           drift logger     droog  foute meting   inhang  \\\n",
       "kept_in_both     0.987224           NaN       NaN           NaN      NaN   \n",
       "flagged_in_s1    0.012776           NaN       NaN           NaN      NaN   \n",
       "flagged_in_s2         NaN      0.905149  0.074013      0.483765  0.20819   \n",
       "flagged_in_both       NaN      0.094851  0.925987      0.516235  0.79181   \n",
       "\n",
       "                    lucht  onbetrouwbare meting      piek  \n",
       "kept_in_both          NaN                   NaN       NaN  \n",
       "flagged_in_s1         NaN                   NaN       NaN  \n",
       "flagged_in_s2    0.179694              0.657983  0.385116  \n",
       "flagged_in_both  0.820306              0.342017  0.614884  "
      ]
     },
     "execution_count": 17,
     "metadata": {},
     "output_type": "execute_result"
    }
   ],
   "source": [
    "ratio = summ / summ.sum()\n",
    "ratio"
   ]
  },
  {
   "cell_type": "markdown",
   "metadata": {},
   "source": [
    "Plot barchart showing error detection rate per comment."
   ]
  },
  {
   "cell_type": "code",
   "execution_count": 18,
   "metadata": {},
   "outputs": [
    {
     "name": "stderr",
     "output_type": "stream",
     "text": [
      "/home/david/anaconda3/lib/python3.7/site-packages/ipykernel_launcher.py:10: UserWarning: FixedFormatter should only be used together with FixedLocator\n",
      "  # Remove the CWD from sys.path while we load stuff.\n"
     ]
    },
    {
     "data": {
      "image/png": "[encoded data removed]",
      "text/plain": [
       "<Figure size 864x432 with 1 Axes>"
      ]
     },
     "metadata": {
      "needs_background": "light"
     },
     "output_type": "display_data"
    }
   ],
   "source": [
    "lbls = list(\n",
    "    (\n",
    "        ratio.columns.str.replace(\" \", \"\\n\")\n",
    "        + summ.sum().apply(lambda s: \"\\n({0:>6.2%})\".format(s / bc_sum.n_obs))\n",
    "    ).values\n",
    ")\n",
    "\n",
    "# create figure\n",
    "fig, ax = plt.subplots(1, 1, figsize=(12, 6))\n",
    "\n",
    "bar = ax.bar(\n",
    "    range(ratio.columns.size),\n",
    "    ratio.loc[\"flagged_in_both\"].values,\n",
    "    align=\"center\",\n",
    "    width=0.6,\n",
    "    edgecolor=\"k\",\n",
    "    label=rset.name,\n",
    ")\n",
    "\n",
    "ax.set_xticklabels(lbls)\n",
    "ax.set_yticks(np.arange(0, 1.1, 0.1))\n",
    "ax.set_ylabel(\"Ratio (-)\")\n",
    "ax.grid(True, axis=\"y\")\n",
    "ax.legend(loc=\"upper right\")\n",
    "ax.set_title(\n",
    "    \"Ratio data correctly identified as suspect \"\n",
    "    \"(manual validation as truth) \"\n",
    "    \"(N$_{{obs}}$ = {0:5.2e})\".format(summ.sum().sum())\n",
    ")\n",
    "plt.xticks(rotation=0, ha=\"center\")\n",
    "ax.set_ylim(0, 1.05)\n",
    "ax.set_xlabel(\"(% of total obs)\")\n",
    "\n",
    "fig.tight_layout()"
   ]
  },
  {
   "cell_type": "code",
   "execution_count": null,
   "metadata": {},
   "outputs": [],
   "source": []
  }
 ],
 "metadata": {
  "kernelspec": {
   "display_name": "Python 3",
   "language": "python",
   "name": "python3"
  },
  "language_info": {
   "codemirror_mode": {
    "name": "ipython",
    "version": 3
   },
   "file_extension": ".py",
   "mimetype": "text/x-python",
   "name": "python",
   "nbconvert_exporter": "python",
   "pygments_lexer": "ipython3",
   "version": "3.7.6"
  }
 },
 "nbformat": 4,
 "nbformat_minor": 4
}
