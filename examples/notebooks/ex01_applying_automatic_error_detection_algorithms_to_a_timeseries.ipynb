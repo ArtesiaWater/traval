{
 "cells": [
  {
   "cell_type": "markdown",
   "metadata": {},
   "source": [
    "# Example 1: Applying an automatic error detection algorithm to a timeseries\n",
    "_Created by Davíd Brakenhoff, Artesia, May 2020_\n",
    "\n",
    "<hr>\n",
    "\n",
    "This notebook contains a simple example how to set up an automatic error detection algorithm based on a few simple rules and applies those rules to a groundwater timeseries.\n",
    "\n",
    "First import the requisite packages:"
   ]
  },
  {
   "cell_type": "code",
   "execution_count": 1,
   "metadata": {},
   "outputs": [],
   "source": [
    "import os\n",
    "import numpy as np\n",
    "import pandas as pd\n",
    "\n",
    "import traval\n",
    "from traval import rulelib as rlib"
   ]
  },
  {
   "cell_type": "markdown",
   "metadata": {},
   "source": [
    "## Data\n",
    "Load the data. The following information is available:\n",
    "- The raw groundwater levels (with all the measurement errors still in the timeseries).\n",
    "- The manually validated timeseries (this is what we consider as the 'truth'). Of course the manual validation isn't always perfect, but since it's all we have to compare with we're using this as our 'truth'. We assume our manual validation is good, so hopefully our error detection algorithm yields similar results to the manual validation. \n",
    "- The sensor level in meters relative to NAP, for checking whether the sensor is above the groundwater level.\n",
    "- The elevation of the top of the piezometer, for checking whether the groundwater level is above this level."
   ]
  },
  {
   "cell_type": "code",
   "execution_count": 2,
   "metadata": {},
   "outputs": [],
   "source": [
    "datadir = \"../data/\"\n",
    "raw = pd.read_csv(os.path.join(datadir, \"raw_series.csv\"), index_col=[0], parse_dates=True).squeeze()\n",
    "truth = pd.read_csv(os.path.join(datadir, \"manual_validation_series.csv\"), index_col=[0], parse_dates=True).squeeze()\n",
    "truth.name = \"manual validation\"\n",
    "sensor_level = pd.read_csv(os.path.join(datadir, \"sensor_level_nap.csv\"), index_col=[0], parse_dates=True).squeeze()\n",
    "top_piezometer = pd.read_csv(os.path.join(datadir, \"top_piezometer_level.csv\"), index_col=[0], parse_dates=True).squeeze()"
   ]
  },
  {
   "cell_type": "markdown",
   "metadata": {},
   "source": [
    "## The error detection algorithm and the `RuleSet` object\n",
    "The detection algorithm consists of 3 checks and an extra step to combine the results of those three checks:\n",
    "1. Check for spikes (when groundwater level suddenly changes and returns to its original level one timestep later).\n",
    "2. Check if sensor is above groundwater level.\n",
    "3. Check if groundwater level is above top of piezometer (if the piezometer is closed this is possible, but in this case we know it isn't).\n",
    "4. Combine the results of checks 1 to 3 to yield the final result.\n",
    "\n",
    "The error detection algorithm is entered using the `RuleSet` object. This is an object that can hold any number of error detection rules and apply those to a timeseries. With the `RuleSet.add_rule()` method, rules can be added to the algorithm. Ading a rule requires the following input:\n",
    "- **name**: name of the rule (user-specified)\n",
    "- **func**: the function to apply to the timeseries\n",
    "- **apply_to**: an integer indicating to which timeseries the rule should be applied. The original timeseries is 0, the outcome from step 1 is 1, etc.\n",
    "- **kwargs**: a dictionary containing any other arguments required by the functions that are passed.\n",
    "\n",
    "The final rule we add doesn't check for errors but combines the results from the previous three steps to create one final timeseries that includes the outcome from each of the preceding rules. In this case `apply_to` is a tuple of ints referencing the results that should be combined. In this case it says to combine the results from steps 1, 2 and 3."
   ]
  },
  {
   "cell_type": "code",
   "execution_count": 4,
   "metadata": {},
   "outputs": [],
   "source": [
    "# initialize RuleSet object\n",
    "rset = traval.RuleSet(name=\"basic\")\n",
    "\n",
    "# add rules\n",
    "rset.add_rule(\"spikes\", rlib.rule_spike_detection, apply_to=0, \n",
    "              kwargs={\"threshold\": 0.15, \"spike_tol\": 0.15, \"max_gap\": \"7D\"})\n",
    "rset.add_rule(\"dry\", rlib.rule_ufunc_threshold, apply_to=0, \n",
    "              kwargs={\"ufunc\": (np.less,), \"threshold\": sensor_level, \"offset\": 0.025})\n",
    "rset.add_rule(\"hardmax\", rlib.rule_ufunc_threshold, apply_to=0, \n",
    "              kwargs={\"ufunc\": (np.greater,), \"threshold\": top_piezometer})\n",
    "rset.add_rule(\"combine\", rlib.rule_combine_nan_or, apply_to=(1, 2, 3))"
   ]
  },
  {
   "cell_type": "markdown",
   "metadata": {},
   "source": [
    "The view of the object shows which rules have been added:"
   ]
  },
  {
   "cell_type": "code",
   "execution_count": 5,
   "metadata": {},
   "outputs": [
    {
     "data": {
      "text/plain": [
       "RuleSet: 'basic'\n",
       "  step: name            apply_to\n",
       "     1: spikes                 0\n",
       "     2: dry                    0\n",
       "     3: hardmax                0\n",
       "     4: combine         (1, 2, 3)"
      ]
     },
     "execution_count": 5,
     "metadata": {},
     "output_type": "execute_result"
    }
   ],
   "source": [
    "# view object\n",
    "rset"
   ]
  },
  {
   "cell_type": "markdown",
   "metadata": {},
   "source": [
    "The `RuleSet` object can be stored as pickle file or as JSON. \n",
    "- `to_pickle`: This option has full support for custom functions and is the most flexible and is therefore recommended. The file is not human readable however.\n",
    "- `to_json`: Storing as a JSON file has the advantage of creating a human readable file, but it only supports default functions from `traval.rulelib`. So custom functions will not be preserved when saving in this format."
   ]
  },
  {
   "cell_type": "code",
   "execution_count": 6,
   "metadata": {},
   "outputs": [
    {
     "name": "stdout",
     "output_type": "stream",
     "text": [
      "RuleSet written to file: 'test.pkl'\n"
     ]
    }
   ],
   "source": [
    "rset.to_pickle('test.pkl')\n",
    "rset2 = traval.RuleSet.from_pickle(\"test.pkl\")"
   ]
  },
  {
   "cell_type": "code",
   "execution_count": 7,
   "metadata": {},
   "outputs": [
    {
     "name": "stdout",
     "output_type": "stream",
     "text": [
      "RuleSet written to file: 'test.json'\n"
     ]
    },
    {
     "name": "stderr",
     "output_type": "stream",
     "text": [
      "/home/david/Github/traval/traval/ruleset.py:436: UserWarning: Custom functions will not be preserved when storing RuleSet as JSON file!\n",
      "  warnings.warn(msg)\n"
     ]
    }
   ],
   "source": [
    "rset.to_json(\"test.json\")\n",
    "rset3 = traval.RuleSet.from_json(\"test.json\")"
   ]
  },
  {
   "cell_type": "markdown",
   "metadata": {},
   "source": [
    "Delete the two files we just created."
   ]
  },
  {
   "cell_type": "code",
   "execution_count": 8,
   "metadata": {},
   "outputs": [],
   "source": [
    "for f in [\"test.json\", \"test.pkl\"]:\n",
    "    os.remove(f)"
   ]
  },
  {
   "cell_type": "markdown",
   "metadata": {},
   "source": [
    "## The `Detector` object\n",
    "\n",
    "The `Detector` object provides tools for storing a timeseries, applying an algorithm built with the `RuleSet` object and processing the outcomes. We initialize the objet with the raw data timeseries in which we want to find the erroneous measurements. Optionally we can add a \"truth\" series to compare the outcome of our error detection algorithm to."
   ]
  },
  {
   "cell_type": "code",
   "execution_count": 9,
   "metadata": {},
   "outputs": [
    {
     "data": {
      "text/plain": [
       "Detector: <DEUR033_G>"
      ]
     },
     "execution_count": 9,
     "metadata": {},
     "output_type": "execute_result"
    }
   ],
   "source": [
    "detector = traval.Detector(raw, truth=truth)\n",
    "detector"
   ]
  },
  {
   "cell_type": "markdown",
   "metadata": {},
   "source": [
    "Apply our custom algorithm. The `compare=True` creates `SeriesComparison` objects for the result of each step in the algorithm. These objects compare the result of a error detection step with the original timeseries or the 'truth' if available. The object also includes methods to plot the comparison results."
   ]
  },
  {
   "cell_type": "code",
   "execution_count": 10,
   "metadata": {},
   "outputs": [],
   "source": [
    "detector.apply_ruleset(rset, compare=True)"
   ]
  },
  {
   "cell_type": "markdown",
   "metadata": {},
   "source": [
    "Plot an overview of the results. This creates one plot per rule and highlights which points were marked as suspect based on that rule."
   ]
  },
  {
   "cell_type": "code",
   "execution_count": 11,
   "metadata": {},
   "outputs": [
    {
     "data": {
      "image/png": "[encoded data removed]",
      "text/plain": [
       "<Figure size 864x360 with 5 Axes>"
      ]
     },
     "metadata": {
      "needs_background": "light"
     },
     "output_type": "display_data"
    }
   ],
   "source": [
    "axes = detector.plot_overview()"
   ]
  },
  {
   "cell_type": "markdown",
   "metadata": {},
   "source": [
    "The results with the flagged values as NaNs in the original series can be obtained with `detector.get_results_dataframe()`."
   ]
  },
  {
   "cell_type": "code",
   "execution_count": 12,
   "metadata": {},
   "outputs": [
    {
     "data": {
      "text/html": [
       "<div>\n",
       "<style scoped>\n",
       "    .dataframe tbody tr th:only-of-type {\n",
       "        vertical-align: middle;\n",
       "    }\n",
       "\n",
       "    .dataframe tbody tr th {\n",
       "        vertical-align: top;\n",
       "    }\n",
       "\n",
       "    .dataframe thead th {\n",
       "        text-align: right;\n",
       "    }\n",
       "</style>\n",
       "<table border=\"1\" class=\"dataframe\">\n",
       "  <thead>\n",
       "    <tr style=\"text-align: right;\">\n",
       "      <th></th>\n",
       "      <th>base series</th>\n",
       "      <th>spikes</th>\n",
       "      <th>dry</th>\n",
       "      <th>hardmax</th>\n",
       "      <th>combine</th>\n",
       "    </tr>\n",
       "    <tr>\n",
       "      <th>index</th>\n",
       "      <th></th>\n",
       "      <th></th>\n",
       "      <th></th>\n",
       "      <th></th>\n",
       "      <th></th>\n",
       "    </tr>\n",
       "  </thead>\n",
       "  <tbody>\n",
       "    <tr>\n",
       "      <th>2012-09-24 15:00:00</th>\n",
       "      <td>29.1959</td>\n",
       "      <td>29.1959</td>\n",
       "      <td>NaN</td>\n",
       "      <td>29.1959</td>\n",
       "      <td>NaN</td>\n",
       "    </tr>\n",
       "    <tr>\n",
       "      <th>2012-09-24 16:00:00</th>\n",
       "      <td>29.6104</td>\n",
       "      <td>29.6104</td>\n",
       "      <td>29.6104</td>\n",
       "      <td>29.6104</td>\n",
       "      <td>29.6104</td>\n",
       "    </tr>\n",
       "    <tr>\n",
       "      <th>2012-09-24 17:00:00</th>\n",
       "      <td>29.6082</td>\n",
       "      <td>29.6082</td>\n",
       "      <td>29.6082</td>\n",
       "      <td>29.6082</td>\n",
       "      <td>29.6082</td>\n",
       "    </tr>\n",
       "    <tr>\n",
       "      <th>2012-09-24 18:00:00</th>\n",
       "      <td>29.6170</td>\n",
       "      <td>29.6170</td>\n",
       "      <td>29.6170</td>\n",
       "      <td>29.6170</td>\n",
       "      <td>29.6170</td>\n",
       "    </tr>\n",
       "    <tr>\n",
       "      <th>2012-09-24 19:00:00</th>\n",
       "      <td>29.6158</td>\n",
       "      <td>29.6158</td>\n",
       "      <td>29.6158</td>\n",
       "      <td>29.6158</td>\n",
       "      <td>29.6158</td>\n",
       "    </tr>\n",
       "  </tbody>\n",
       "</table>\n",
       "</div>"
      ],
      "text/plain": [
       "                     base series   spikes      dry  hardmax  combine\n",
       "index                                                               \n",
       "2012-09-24 15:00:00      29.1959  29.1959      NaN  29.1959      NaN\n",
       "2012-09-24 16:00:00      29.6104  29.6104  29.6104  29.6104  29.6104\n",
       "2012-09-24 17:00:00      29.6082  29.6082  29.6082  29.6082  29.6082\n",
       "2012-09-24 18:00:00      29.6170  29.6170  29.6170  29.6170  29.6170\n",
       "2012-09-24 19:00:00      29.6158  29.6158  29.6158  29.6158  29.6158"
      ]
     },
     "execution_count": 12,
     "metadata": {},
     "output_type": "execute_result"
    }
   ],
   "source": [
    "results = detector.get_results_dataframe()\n",
    "results.head()"
   ]
  },
  {
   "cell_type": "markdown",
   "metadata": {},
   "source": [
    "The corrections are only stored for timestamps where corrections were deemed relevant."
   ]
  },
  {
   "cell_type": "code",
   "execution_count": 13,
   "metadata": {},
   "outputs": [
    {
     "data": {
      "text/html": [
       "<div>\n",
       "<style scoped>\n",
       "    .dataframe tbody tr th:only-of-type {\n",
       "        vertical-align: middle;\n",
       "    }\n",
       "\n",
       "    .dataframe tbody tr th {\n",
       "        vertical-align: top;\n",
       "    }\n",
       "\n",
       "    .dataframe thead th {\n",
       "        text-align: right;\n",
       "    }\n",
       "</style>\n",
       "<table border=\"1\" class=\"dataframe\">\n",
       "  <thead>\n",
       "    <tr style=\"text-align: right;\">\n",
       "      <th></th>\n",
       "      <th>spikes</th>\n",
       "      <th>dry</th>\n",
       "      <th>hardmax</th>\n",
       "      <th>combine</th>\n",
       "    </tr>\n",
       "  </thead>\n",
       "  <tbody>\n",
       "    <tr>\n",
       "      <th>2012-09-24 15:00:00</th>\n",
       "      <td>0.0</td>\n",
       "      <td>NaN</td>\n",
       "      <td>0.0</td>\n",
       "      <td>0.0</td>\n",
       "    </tr>\n",
       "    <tr>\n",
       "      <th>2015-06-27 14:30:41</th>\n",
       "      <td>NaN</td>\n",
       "      <td>NaN</td>\n",
       "      <td>0.0</td>\n",
       "      <td>0.0</td>\n",
       "    </tr>\n",
       "    <tr>\n",
       "      <th>2016-12-23 10:00:00</th>\n",
       "      <td>0.0</td>\n",
       "      <td>NaN</td>\n",
       "      <td>0.0</td>\n",
       "      <td>0.0</td>\n",
       "    </tr>\n",
       "    <tr>\n",
       "      <th>2016-12-23 11:00:00</th>\n",
       "      <td>0.0</td>\n",
       "      <td>NaN</td>\n",
       "      <td>0.0</td>\n",
       "      <td>0.0</td>\n",
       "    </tr>\n",
       "    <tr>\n",
       "      <th>2016-12-23 12:00:00</th>\n",
       "      <td>0.0</td>\n",
       "      <td>NaN</td>\n",
       "      <td>0.0</td>\n",
       "      <td>0.0</td>\n",
       "    </tr>\n",
       "    <tr>\n",
       "      <th>2016-12-23 13:00:00</th>\n",
       "      <td>0.0</td>\n",
       "      <td>NaN</td>\n",
       "      <td>0.0</td>\n",
       "      <td>0.0</td>\n",
       "    </tr>\n",
       "    <tr>\n",
       "      <th>2016-12-23 14:00:00</th>\n",
       "      <td>0.0</td>\n",
       "      <td>NaN</td>\n",
       "      <td>0.0</td>\n",
       "      <td>0.0</td>\n",
       "    </tr>\n",
       "    <tr>\n",
       "      <th>2016-12-23 15:00:00</th>\n",
       "      <td>0.0</td>\n",
       "      <td>NaN</td>\n",
       "      <td>0.0</td>\n",
       "      <td>0.0</td>\n",
       "    </tr>\n",
       "    <tr>\n",
       "      <th>2016-12-23 16:00:00</th>\n",
       "      <td>0.0</td>\n",
       "      <td>NaN</td>\n",
       "      <td>0.0</td>\n",
       "      <td>0.0</td>\n",
       "    </tr>\n",
       "    <tr>\n",
       "      <th>2016-12-23 17:00:00</th>\n",
       "      <td>0.0</td>\n",
       "      <td>NaN</td>\n",
       "      <td>0.0</td>\n",
       "      <td>0.0</td>\n",
       "    </tr>\n",
       "    <tr>\n",
       "      <th>2016-12-23 18:00:00</th>\n",
       "      <td>0.0</td>\n",
       "      <td>NaN</td>\n",
       "      <td>0.0</td>\n",
       "      <td>0.0</td>\n",
       "    </tr>\n",
       "    <tr>\n",
       "      <th>2016-12-23 19:00:00</th>\n",
       "      <td>0.0</td>\n",
       "      <td>NaN</td>\n",
       "      <td>0.0</td>\n",
       "      <td>0.0</td>\n",
       "    </tr>\n",
       "    <tr>\n",
       "      <th>2016-12-23 20:00:00</th>\n",
       "      <td>0.0</td>\n",
       "      <td>NaN</td>\n",
       "      <td>0.0</td>\n",
       "      <td>0.0</td>\n",
       "    </tr>\n",
       "    <tr>\n",
       "      <th>2016-12-23 21:00:00</th>\n",
       "      <td>0.0</td>\n",
       "      <td>NaN</td>\n",
       "      <td>0.0</td>\n",
       "      <td>0.0</td>\n",
       "    </tr>\n",
       "    <tr>\n",
       "      <th>2016-12-23 22:00:00</th>\n",
       "      <td>0.0</td>\n",
       "      <td>NaN</td>\n",
       "      <td>0.0</td>\n",
       "      <td>0.0</td>\n",
       "    </tr>\n",
       "    <tr>\n",
       "      <th>2016-12-23 23:00:00</th>\n",
       "      <td>0.0</td>\n",
       "      <td>NaN</td>\n",
       "      <td>0.0</td>\n",
       "      <td>0.0</td>\n",
       "    </tr>\n",
       "    <tr>\n",
       "      <th>2016-12-24 00:00:00</th>\n",
       "      <td>0.0</td>\n",
       "      <td>NaN</td>\n",
       "      <td>0.0</td>\n",
       "      <td>0.0</td>\n",
       "    </tr>\n",
       "    <tr>\n",
       "      <th>2016-12-24 01:00:00</th>\n",
       "      <td>0.0</td>\n",
       "      <td>NaN</td>\n",
       "      <td>0.0</td>\n",
       "      <td>0.0</td>\n",
       "    </tr>\n",
       "    <tr>\n",
       "      <th>2016-12-24 02:00:00</th>\n",
       "      <td>0.0</td>\n",
       "      <td>NaN</td>\n",
       "      <td>0.0</td>\n",
       "      <td>0.0</td>\n",
       "    </tr>\n",
       "    <tr>\n",
       "      <th>2016-12-24 03:00:00</th>\n",
       "      <td>0.0</td>\n",
       "      <td>NaN</td>\n",
       "      <td>0.0</td>\n",
       "      <td>0.0</td>\n",
       "    </tr>\n",
       "    <tr>\n",
       "      <th>2016-12-24 04:00:00</th>\n",
       "      <td>0.0</td>\n",
       "      <td>NaN</td>\n",
       "      <td>0.0</td>\n",
       "      <td>0.0</td>\n",
       "    </tr>\n",
       "    <tr>\n",
       "      <th>2016-12-24 05:00:00</th>\n",
       "      <td>0.0</td>\n",
       "      <td>NaN</td>\n",
       "      <td>0.0</td>\n",
       "      <td>0.0</td>\n",
       "    </tr>\n",
       "    <tr>\n",
       "      <th>2016-12-24 06:00:00</th>\n",
       "      <td>0.0</td>\n",
       "      <td>NaN</td>\n",
       "      <td>0.0</td>\n",
       "      <td>0.0</td>\n",
       "    </tr>\n",
       "    <tr>\n",
       "      <th>2016-12-24 07:00:00</th>\n",
       "      <td>0.0</td>\n",
       "      <td>NaN</td>\n",
       "      <td>0.0</td>\n",
       "      <td>0.0</td>\n",
       "    </tr>\n",
       "    <tr>\n",
       "      <th>2016-12-24 08:00:00</th>\n",
       "      <td>0.0</td>\n",
       "      <td>NaN</td>\n",
       "      <td>0.0</td>\n",
       "      <td>0.0</td>\n",
       "    </tr>\n",
       "  </tbody>\n",
       "</table>\n",
       "</div>"
      ],
      "text/plain": [
       "                     spikes  dry  hardmax  combine\n",
       "2012-09-24 15:00:00     0.0  NaN      0.0      0.0\n",
       "2015-06-27 14:30:41     NaN  NaN      0.0      0.0\n",
       "2016-12-23 10:00:00     0.0  NaN      0.0      0.0\n",
       "2016-12-23 11:00:00     0.0  NaN      0.0      0.0\n",
       "2016-12-23 12:00:00     0.0  NaN      0.0      0.0\n",
       "2016-12-23 13:00:00     0.0  NaN      0.0      0.0\n",
       "2016-12-23 14:00:00     0.0  NaN      0.0      0.0\n",
       "2016-12-23 15:00:00     0.0  NaN      0.0      0.0\n",
       "2016-12-23 16:00:00     0.0  NaN      0.0      0.0\n",
       "2016-12-23 17:00:00     0.0  NaN      0.0      0.0\n",
       "2016-12-23 18:00:00     0.0  NaN      0.0      0.0\n",
       "2016-12-23 19:00:00     0.0  NaN      0.0      0.0\n",
       "2016-12-23 20:00:00     0.0  NaN      0.0      0.0\n",
       "2016-12-23 21:00:00     0.0  NaN      0.0      0.0\n",
       "2016-12-23 22:00:00     0.0  NaN      0.0      0.0\n",
       "2016-12-23 23:00:00     0.0  NaN      0.0      0.0\n",
       "2016-12-24 00:00:00     0.0  NaN      0.0      0.0\n",
       "2016-12-24 01:00:00     0.0  NaN      0.0      0.0\n",
       "2016-12-24 02:00:00     0.0  NaN      0.0      0.0\n",
       "2016-12-24 03:00:00     0.0  NaN      0.0      0.0\n",
       "2016-12-24 04:00:00     0.0  NaN      0.0      0.0\n",
       "2016-12-24 05:00:00     0.0  NaN      0.0      0.0\n",
       "2016-12-24 06:00:00     0.0  NaN      0.0      0.0\n",
       "2016-12-24 07:00:00     0.0  NaN      0.0      0.0\n",
       "2016-12-24 08:00:00     0.0  NaN      0.0      0.0"
      ]
     },
     "execution_count": 13,
     "metadata": {},
     "output_type": "execute_result"
    }
   ],
   "source": [
    "corrections = detector.get_corrections_dataframe()\n",
    "corrections"
   ]
  },
  {
   "cell_type": "markdown",
   "metadata": {},
   "source": [
    "The comparison objects are stored as a dictionary under `detector.comparisons`:"
   ]
  },
  {
   "cell_type": "code",
   "execution_count": 14,
   "metadata": {},
   "outputs": [],
   "source": [
    "detect = detector"
   ]
  },
  {
   "cell_type": "code",
   "execution_count": 15,
   "metadata": {},
   "outputs": [
    {
     "data": {
      "text/plain": [
       "{1: <traval.ts_comparison.SeriesComparisonRelative at 0x7f670b7b3890>,\n",
       " 2: <traval.ts_comparison.SeriesComparisonRelative at 0x7f66e2fab7d0>,\n",
       " 3: <traval.ts_comparison.SeriesComparisonRelative at 0x7f66e2fab4d0>,\n",
       " 4: <traval.ts_comparison.SeriesComparisonRelative at 0x7f66e2fb73d0>}"
      ]
     },
     "execution_count": 15,
     "metadata": {},
     "output_type": "execute_result"
    }
   ],
   "source": [
    "detect.comparisons"
   ]
  },
  {
   "cell_type": "markdown",
   "metadata": {},
   "source": [
    "Let's take a look at the comparison of the final result with manual validation, relative to the raw data."
   ]
  },
  {
   "cell_type": "code",
   "execution_count": 16,
   "metadata": {},
   "outputs": [],
   "source": [
    "comp = detector.comparisons[4]"
   ]
  },
  {
   "cell_type": "markdown",
   "metadata": {},
   "source": [
    "The `SeriesComparisonRelative` object contains a summary of the different categories measurements can fall into, e.g. \"kept in both\" means the observations was deemed valid in both the detection result and the \"truth\" timeseries."
   ]
  },
  {
   "cell_type": "code",
   "execution_count": 17,
   "metadata": {},
   "outputs": [
    {
     "data": {
      "text/plain": [
       "kept_in_both          37212\n",
       "flagged_in_s1             0\n",
       "flagged_in_s2             0\n",
       "flagged_in_both          25\n",
       "in_all_nan                0\n",
       "introduced_in_s1          0\n",
       "introduced_in_s2          0\n",
       "introduced_in_both        0\n",
       "Name: N_obs, dtype: int64"
      ]
     },
     "execution_count": 17,
     "metadata": {},
     "output_type": "execute_result"
    }
   ],
   "source": [
    "comp.summary_base_comparison"
   ]
  },
  {
   "cell_type": "markdown",
   "metadata": {},
   "source": [
    "Plot the comparison overview. In this comparison the manual validation and the result of our error detection algorithm are compared to each other relative to the raw data. In this case we can see that all the points that were marked as suspect in the manual validation were also identified by our algorithm."
   ]
  },
  {
   "cell_type": "code",
   "execution_count": 18,
   "metadata": {},
   "outputs": [
    {
     "data": {
      "image/png": "[encoded data removed]",
      "text/plain": [
       "<Figure size 864x360 with 1 Axes>"
      ]
     },
     "metadata": {
      "needs_background": "light"
     },
     "output_type": "display_data"
    }
   ],
   "source": [
    "ax = comp.plots.plot_relative_comparison(mark_different=False, mark_identical=False)\n",
    "leg = ax.legend(loc=(0, 1), ncol=4)"
   ]
  },
  {
   "cell_type": "markdown",
   "metadata": {},
   "source": [
    "## Binary Classification statistics and the confusion matrix\n",
    "All methods for calculating statistics related to binary classification are available through the `comp.bc` attribute. "
   ]
  },
  {
   "cell_type": "code",
   "execution_count": 19,
   "metadata": {},
   "outputs": [
    {
     "data": {
      "text/plain": [
       "\u001b[0;31mType:\u001b[0m           BinaryClassifier\n",
       "\u001b[0;31mString form:\u001b[0m    <traval.binary_classifier.BinaryClassifier object at 0x7f66e2fb9850>\n",
       "\u001b[0;31mFile:\u001b[0m           ~/Github/traval/traval/binary_classifier.py\n",
       "\u001b[0;31mDocstring:\u001b[0m      Class for calculating binary classification statistics.\n",
       "\u001b[0;31mInit docstring:\u001b[0m\n",
       "Initialize class for calculating binary classification statistics.\n",
       "\n",
       "Parameters\n",
       "----------\n",
       "tp : int\n",
       "    number of True Positives (TP)\n",
       "fp : int\n",
       "    number of False Positives (FP)\n",
       "tn : int\n",
       "    number of True Negatives (TN)\n",
       "fn : int\n",
       "    number of False Negatives (FN)\n"
      ]
     },
     "metadata": {},
     "output_type": "display_data"
    }
   ],
   "source": [
    "comp.bc?"
   ]
  },
  {
   "cell_type": "markdown",
   "metadata": {},
   "source": [
    "The `comp.bc.confustion_matrix` method is used to calculate the [confusion matrix](https://en.wikipedia.org/wiki/Confusion_matrix). The number of times the algorithm is correct (as compared to the \"truth\") is given on the diagonal. The number of times the algorithm is wrong is shown outside the diagonal."
   ]
  },
  {
   "cell_type": "code",
   "execution_count": 20,
   "metadata": {},
   "outputs": [
    {
     "data": {
      "text/plain": [
       "\u001b[0;31mSignature:\u001b[0m \u001b[0mcomp\u001b[0m\u001b[0;34m.\u001b[0m\u001b[0mbc\u001b[0m\u001b[0;34m.\u001b[0m\u001b[0mconfusion_matrix\u001b[0m\u001b[0;34m(\u001b[0m\u001b[0mas_array\u001b[0m\u001b[0;34m=\u001b[0m\u001b[0;32mFalse\u001b[0m\u001b[0;34m)\u001b[0m\u001b[0;34m\u001b[0m\u001b[0;34m\u001b[0m\u001b[0m\n",
       "\u001b[0;31mDocstring:\u001b[0m\n",
       "Calculate confusion matrix.\n",
       "\n",
       "Confusion matrix shows the performance of the algorithm given a\n",
       "certain truth. An abstract example of the confusion matrix:\n",
       "\n",
       "                |     Algorithm     |\n",
       "                |-------------------|\n",
       "                |  error  | correct |\n",
       "------|---------|---------|---------|\n",
       "      |  error  |   TP    |   FN    |\n",
       "Truth |---------|---------|---------|\n",
       "      | correct |   FP    |   TN    |\n",
       "------|---------|---------|---------|\n",
       "\n",
       "where:\n",
       "- TP: True Positives  = errors correctly detected by algorithm\n",
       "- TN: True Negatives  = correct values correctly not flagged by algorithm\n",
       "- FP: False Positives = correct values marked as errors by algorithm\n",
       "- FN: False Negatives = errors not detected by algorithm\n",
       "\n",
       "Parameters\n",
       "----------\n",
       "as_array : bool, optional\n",
       "    return data as array instead of DataFrame, by default False\n",
       "\n",
       "Returns\n",
       "-------\n",
       "data : pd.DataFrame or np.array\n",
       "    confusion matrix\n",
       "\u001b[0;31mFile:\u001b[0m      ~/Github/traval/traval/binary_classifier.py\n",
       "\u001b[0;31mType:\u001b[0m      method\n"
      ]
     },
     "metadata": {},
     "output_type": "display_data"
    }
   ],
   "source": [
    "comp.bc.confusion_matrix?"
   ]
  },
  {
   "cell_type": "code",
   "execution_count": 21,
   "metadata": {},
   "outputs": [
    {
     "data": {
      "text/html": [
       "<div>\n",
       "<style scoped>\n",
       "    .dataframe tbody tr th:only-of-type {\n",
       "        vertical-align: middle;\n",
       "    }\n",
       "\n",
       "    .dataframe tbody tr th {\n",
       "        vertical-align: top;\n",
       "    }\n",
       "\n",
       "    .dataframe thead tr th {\n",
       "        text-align: left;\n",
       "    }\n",
       "</style>\n",
       "<table border=\"1\" class=\"dataframe\">\n",
       "  <thead>\n",
       "    <tr>\n",
       "      <th></th>\n",
       "      <th></th>\n",
       "      <th colspan=\"2\" halign=\"left\">Algorithm</th>\n",
       "    </tr>\n",
       "    <tr>\n",
       "      <th></th>\n",
       "      <th></th>\n",
       "      <th>error</th>\n",
       "      <th>correct</th>\n",
       "    </tr>\n",
       "  </thead>\n",
       "  <tbody>\n",
       "    <tr>\n",
       "      <th rowspan=\"2\" valign=\"top\">\"Truth\"</th>\n",
       "      <th>error</th>\n",
       "      <td>25</td>\n",
       "      <td>0</td>\n",
       "    </tr>\n",
       "    <tr>\n",
       "      <th>correct</th>\n",
       "      <td>0</td>\n",
       "      <td>37212</td>\n",
       "    </tr>\n",
       "  </tbody>\n",
       "</table>\n",
       "</div>"
      ],
      "text/plain": [
       "                Algorithm        \n",
       "                    error correct\n",
       "\"Truth\" error          25       0\n",
       "        correct         0   37212"
      ]
     },
     "execution_count": 21,
     "metadata": {},
     "output_type": "execute_result"
    }
   ],
   "source": [
    "cmat = comp.bc.confusion_matrix()\n",
    "cmat"
   ]
  },
  {
   "cell_type": "markdown",
   "metadata": {},
   "source": [
    "Binary classification statistics are also available:\n",
    "- **sensitivity** or **true positive rate**: number of positives identified relative to total number of positives. This says something about the avoidance of false negatives.\n",
    "- **specificity** or **true negative rate**: number of negatives identified relative to total number of negatives. This says something about the avoidance of false positives.\n",
    "- **false positive rate**: (= 1 - specificity)\n",
    "- **false negative rate**: (= 1 - sensitivity)\n",
    "\n",
    "More explanation is available in de docstrings of these properties:"
   ]
  },
  {
   "cell_type": "code",
   "execution_count": 22,
   "metadata": {},
   "outputs": [
    {
     "data": {
      "text/plain": [
       "\u001b[0;31mType:\u001b[0m        property\n",
       "\u001b[0;31mString form:\u001b[0m <property object at 0x7f66e3d4e2f0>\n",
       "\u001b[0;31mDocstring:\u001b[0m  \n",
       "Specificity or True Negative Rate.\n",
       "\n",
       "Statistic describing ratio of true negatives identified,\n",
       "which also says something about the avoidance of false positives.\n",
       "\n",
       "    Specificity = TN / (TN + FP)\n",
       "\n",
       "where\n",
       "- TN : True Negatives\n",
       "- FP : False Positives\n"
      ]
     },
     "metadata": {},
     "output_type": "display_data"
    }
   ],
   "source": [
    "comp.bc.specificity?"
   ]
  },
  {
   "cell_type": "code",
   "execution_count": 23,
   "metadata": {},
   "outputs": [
    {
     "name": "stdout",
     "output_type": "stream",
     "text": [
      "- True Positive Rate  = 1.0 =       Sensitivity = 1.0\n",
      "- True Negative Rate  = 1.0 =       Specificity = 1.0\n",
      "- False Positive Rate = 0.0 = (1 - Specificity) = 0.0\n",
      "- False Negative Rate = 0.0 = (1 - Sensitivity) = 0.0\n"
     ]
    }
   ],
   "source": [
    "print(f\"- True Positive Rate  = {comp.bc.true_positive_rate} =       Sensitivity = {comp.bc.sensitivity}\")\n",
    "print(f\"- True Negative Rate  = {comp.bc.true_negative_rate} =       Specificity = {comp.bc.specificity}\")\n",
    "print(f\"- False Positive Rate = {comp.bc.false_positive_rate} = (1 - Specificity) = {1 - comp.bc.specificity}\")\n",
    "print(f\"- False Negative Rate = {comp.bc.false_negative_rate} = (1 - Sensitivity) = {1 - comp.bc.sensitivity}\")"
   ]
  },
  {
   "cell_type": "markdown",
   "metadata": {},
   "source": [
    "Matthews Correlation Coefficient (MCC) \n",
    "\n",
    "The MCC is seen as a balanced measure for classification that also works when classes have very different sizes. It is essentially a measure between -1 and 1 that attempts to summarize the confusion matrix in one value. A coefficient of +1 represents a perfect prediction, 0 no better than random prediction and −1 indicates total disagreement between prediction and observation. Though there is no perfect way of summarizing the confusion matrix in one measure, the MCC is seen as one of the best of such measures (Source: [Wikipedia](https://en.wikipedia.org/wiki/Matthews_correlation_coefficient))."
   ]
  },
  {
   "cell_type": "code",
   "execution_count": 25,
   "metadata": {},
   "outputs": [
    {
     "data": {
      "text/plain": [
       "1.0"
      ]
     },
     "execution_count": 25,
     "metadata": {},
     "output_type": "execute_result"
    }
   ],
   "source": [
    "comp.bc.mcc"
   ]
  },
  {
   "cell_type": "markdown",
   "metadata": {},
   "source": [
    "## Receiver Operator Characteristic plot\n",
    "Finally, we can plot the so-called \"receiver operator characteristic curve\", which shows the performance of our algorithm relative to the line corresponding to a random guess. The plot shows the False Positive Rate versus the True Positive Rate. The higher the True Positive Rate the better our algorithm is able to identify errors. The lower the False Positive Rate, the lower the number of False Positives it yields. The perfect score is therefore the top left corner of the plot. \n",
    "\n",
    "Our algorithm scores perfectly in this example."
   ]
  },
  {
   "cell_type": "code",
   "execution_count": 29,
   "metadata": {},
   "outputs": [
    {
     "data": {
      "image/png": "[encoded data removed]",
      "text/plain": [
       "<Figure size 720x576 with 1 Axes>"
      ]
     },
     "metadata": {
      "needs_background": "light"
     },
     "output_type": "display_data"
    }
   ],
   "source": [
    "label = \"my first error \\ndetection algorithm\"\n",
    "ax = traval.plots.roc_plot(comp.bc.true_positive_rate, \n",
    "                           comp.bc.false_positive_rate, \n",
    "                           labels=label)"
   ]
  }
 ],
 "metadata": {
  "kernelspec": {
   "display_name": "Python 3",
   "language": "python",
   "name": "python3"
  },
  "language_info": {
   "codemirror_mode": {
    "name": "ipython",
    "version": 3
   },
   "file_extension": ".py",
   "mimetype": "text/x-python",
   "name": "python",
   "nbconvert_exporter": "python",
   "pygments_lexer": "ipython3",
   "version": "3.7.6"
  }
 },
 "nbformat": 4,
 "nbformat_minor": 4
}
